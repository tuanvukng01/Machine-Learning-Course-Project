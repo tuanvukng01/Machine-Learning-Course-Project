{
 "cells": [
  {
   "cell_type": "code",
   "execution_count": 1,
   "id": "57268095-f4e2-46f8-8af9-5cbad89090e7",
   "metadata": {
    "tags": []
   },
   "outputs": [],
   "source": [
    "import pandas as pd\n",
    "import numpy as np\n",
    "from sklearn.metrics import mean_squared_error\n",
    "from sklearn.ensemble import RandomForestRegressor\n",
    "from sklearn.linear_model import LinearRegression\n",
    "from sklearn.model_selection import train_test_split\n",
    "from sklearn.preprocessing import PolynomialFeatures\n",
    "df = pd.read_csv('C.csv', delimiter = '\\t')"
   ]
  },
  {
   "cell_type": "code",
   "execution_count": 2,
   "id": "43764fad-7905-4fff-97be-9ebb6f2edc11",
   "metadata": {
    "tags": []
   },
   "outputs": [],
   "source": [
    "mask = df.loc[:,'baseRent'] > df.loc[:,'totalRent']\n",
    "df = df.drop(df.loc[mask,:].index)"
   ]
  },
  {
   "cell_type": "code",
   "execution_count": 3,
   "id": "0e5059d9-2504-4ca6-8f15-149868304720",
   "metadata": {
    "tags": []
   },
   "outputs": [
    {
     "data": {
      "text/plain": [
       "0       May-19\n",
       "1       May-19\n",
       "2       Oct-19\n",
       "3       May-19\n",
       "4       Feb-20\n",
       "         ...  \n",
       "2995    Feb-20\n",
       "2996    May-19\n",
       "2997    Sep-18\n",
       "2998    Feb-20\n",
       "2999    May-19\n",
       "Name: date, Length: 2993, dtype: object"
      ]
     },
     "execution_count": 3,
     "metadata": {},
     "output_type": "execute_result"
    }
   ],
   "source": [
    "df['date']"
   ]
  },
  {
   "cell_type": "code",
   "execution_count": 4,
   "id": "dea0faf2-f5b7-4261-8df3-9aee8554b87e",
   "metadata": {
    "tags": []
   },
   "outputs": [],
   "source": [
    "for col in df.columns:\n",
    "    if df[col].dtype == 'float':\n",
    "        df[col] = df[col].fillna(df[col].mean())"
   ]
  },
  {
   "cell_type": "code",
   "execution_count": 5,
   "id": "7e2ec189-7794-43fa-9856-c67e24f2f420",
   "metadata": {
    "tags": []
   },
   "outputs": [],
   "source": [
    "for col in df.columns:\n",
    "    if df[col].dtype == 'object':\n",
    "        df[col] = df[col].fillna(df[col].mode()[0])"
   ]
  },
  {
   "cell_type": "code",
   "execution_count": 6,
   "id": "20662da7-11e3-467b-baf6-32a27192bae6",
   "metadata": {
    "tags": []
   },
   "outputs": [],
   "source": [
    "dat = df\n",
    "dat=dat.join(pd.get_dummies(dat.date, dtype=float)).drop(['date'], axis =1)"
   ]
  },
  {
   "cell_type": "code",
   "execution_count": 7,
   "id": "c268aae6-7171-4d3e-8d82-20d98480a442",
   "metadata": {
    "tags": []
   },
   "outputs": [],
   "source": [
    "for col in ['pictureCount']:\n",
    "      dat[col]=dat[col].astype('float')"
   ]
  },
  {
   "cell_type": "code",
   "execution_count": 8,
   "id": "99550d4c-1288-4483-9c12-5b09e677faa8",
   "metadata": {
    "tags": []
   },
   "outputs": [],
   "source": [
    "min_value = dat['totalRent'].min()\n",
    "max_value = dat['totalRent'].max()\n",
    "dat['normalized_value'] = ((0.99 - 0.01) * (dat['totalRent'] - min_value) / (max_value - min_value)) + 0.01\n",
    "X = dat.drop(['normalized_value','totalRent'], axis =1).to_numpy().reshape(-1,9)\n",
    "y = dat['normalized_value'].to_numpy()"
   ]
  },
  {
   "cell_type": "code",
   "execution_count": 9,
   "id": "0478b4a4-6ad6-4119-940b-b63e52e9e6f8",
   "metadata": {
    "tags": []
   },
   "outputs": [
    {
     "data": {
      "text/plain": [
       "0.000847166912977633"
      ]
     },
     "execution_count": 9,
     "metadata": {},
     "output_type": "execute_result"
    }
   ],
   "source": [
    "X_train, X_val_and_test, y_train, y_val_and_test = train_test_split(X, y,test_size=0.4, random_state=55)\n",
    "X_val, X_test, y_val, y_test = train_test_split(X_val_and_test, y_val_and_test,test_size=0.5, random_state=55)\n",
    "\n",
    "linear=LinearRegression()\n",
    "linear.fit(X_train,y_train)\n",
    "y_pred_lin = linear.predict(X_val)\n",
    "mean_squared_error(y_val, y_pred_lin)"
   ]
  },
  {
   "cell_type": "code",
   "execution_count": 13,
   "id": "20855261-4b0c-4d58-9093-96029c3b147e",
   "metadata": {
    "tags": []
   },
   "outputs": [
    {
     "name": "stdout",
     "output_type": "stream",
     "text": [
      "[0.0011293337508034103, 0.0005246424627486828, 0.000375317567786922, 0.0003528063562241336, 0.00017505217624280616, 0.0008040842774417295, 0.0008669343578439873, 0.0021565604946663184, 0.0041896432877787096]\n",
      "[0.0008471669129776314, 0.0006823684127609282, 0.0036540394352645514, 0.3027930580693332, 113.27413852758623, 185932.02477131062, 6468236.4014236815, 140331382.51368305, 3024617050.690414]\n"
     ]
    }
   ],
   "source": [
    "poly_tr_errors = []\n",
    "poly_val_errors = []\n",
    "poly_degrees = []\n",
    "lin_regr = LinearRegression(fit_intercept=False)\n",
    "for degree in range(1, 10):\n",
    "    poly = PolynomialFeatures(degree=degree) \n",
    "    X_train_poly = poly.fit_transform(X_train) \n",
    "    lin_regr.fit(X_train_poly, y_train)\n",
    "    y_pred_poly_train = lin_regr.predict(X_train_poly)\n",
    "    poly_tr_error = mean_squared_error(y_train, y_pred_poly_train)\n",
    "    X_val_poly = poly.fit_transform(X_val)\n",
    "    y_pred_poly__val = lin_regr.predict(X_val_poly)\n",
    "    poly_val_error = mean_squared_error(y_val, y_pred_poly__val)\n",
    "    poly_tr_errors.append(poly_tr_error)\n",
    "    poly_val_errors.append(poly_val_error)\n",
    "    poly_degrees.append(degree)\n",
    "print(poly_tr_errors)\n",
    "print(poly_val_errors)"
   ]
  },
  {
   "cell_type": "code",
   "execution_count": 14,
   "id": "648ac069-bb55-46c0-bb99-263c2a2e45da",
   "metadata": {
    "tags": []
   },
   "outputs": [
    {
     "data": {
      "text/plain": [
       "[<matplotlib.lines.Line2D at 0x7f80f7064f10>]"
      ]
     },
     "execution_count": 14,
     "metadata": {},
     "output_type": "execute_result"
    },
    {
     "data": {
      "image/png": "[encoded data removed]",
      "text/plain": [
       "<Figure size 640x480 with 1 Axes>"
      ]
     },
     "metadata": {},
     "output_type": "display_data"
    }
   ],
   "source": [
    "import matplotlib.pyplot as plt\n",
    "\n",
    "plt.plot(y_train, y_pred_poly_train, 'o')"
   ]
  },
  {
   "cell_type": "code",
   "execution_count": 15,
   "id": "e5b31bba-ed3d-4a41-84bd-c9324cd543a0",
   "metadata": {
    "tags": []
   },
   "outputs": [
    {
     "name": "stdout",
     "output_type": "stream",
     "text": [
      "0.0005246424627486828\n",
      "0.0006823684127609282\n"
     ]
    }
   ],
   "source": [
    "lin_regr = LinearRegression(fit_intercept=False)\n",
    "poly = PolynomialFeatures(degree=2)\n",
    "X_train_poly = poly.fit_transform(X_train)\n",
    "lin_regr.fit(X_train_poly, y_train)\n",
    "y_pred_poly_train = lin_regr.predict(X_train_poly)\n",
    "poly_tr_error = mean_squared_error(y_train, y_pred_poly_train)\n",
    "X_val_poly = poly.fit_transform(X_val)\n",
    "y_pred_poly_val = lin_regr.predict(X_val_poly)\n",
    "poly_val_error = mean_squared_error(y_val, y_pred_poly_val)\n",
    "print(poly_tr_error)\n",
    "print(poly_val_error)"
   ]
  },
  {
   "cell_type": "code",
   "execution_count": 22,
   "id": "b1229055-e4e7-41f1-860f-fbfddf776e36",
   "metadata": {
    "tags": []
   },
   "outputs": [
    {
     "name": "stdout",
     "output_type": "stream",
     "text": [
      "[0.00015780078227448031, 0.00014505069099183043, 0.00012569928938157624, 0.00011640012538904386, 0.00012416586265612804, 0.00012928822325607864, 0.0001122110117085392]\n",
      "[0.0010541837220832948, 0.0010265204026362565, 0.0010276694970518937, 0.0010374618422396343, 0.0010793666345742037, 0.0010459245408130215, 0.0010558761020826504]\n"
     ]
    }
   ],
   "source": [
    "forest_tr_errors = []\n",
    "forest_val_errors = []\n",
    "m_depths = []\n",
    "for depth in range(10, 17):\n",
    "    forest_regr = RandomForestRegressor(max_depth=depth) \n",
    "    forest_regr.fit(X_train, y_train)\n",
    "    y_pred_forest_train = forest_regr.predict(X_train)\n",
    "    forest_tr_error = mean_squared_error(y_train, y_pred_forest_train)\n",
    "    y_pred_forest_val = forest_regr.predict(X_val)\n",
    "    forest_val_error = mean_squared_error(y_val, y_pred_forest_val)\n",
    "    forest_tr_errors.append(forest_tr_error)\n",
    "    forest_val_errors.append(forest_val_error)\n",
    "    m_depths.append(degree)\n",
    "print(forest_tr_errors)\n",
    "print(forest_val_errors)"
   ]
  },
  {
   "cell_type": "code",
   "execution_count": null,
   "id": "74ee5240-32ce-4130-bf21-ccfb8774b53f",
   "metadata": {},
   "outputs": [],
   "source": []
  },
  {
   "cell_type": "code",
   "execution_count": 26,
   "id": "5a80d9b6-2b15-468c-8c9f-1cb807d6e70a",
   "metadata": {
    "tags": []
   },
   "outputs": [
    {
     "name": "stdout",
     "output_type": "stream",
     "text": [
      "0.00011597125813876844\n",
      "0.0010797273276710432\n"
     ]
    }
   ],
   "source": [
    "forest_regr = RandomForestRegressor(max_depth=11)\n",
    "forest_regr.fit(X_train, y_train)\n",
    "y_pred_forest_train = forest_regr.predict(X_train)\n",
    "forest_tr_error = mean_squared_error(y_train, y_pred_forest_train)\n",
    "y_pred_forest_val = forest_regr.predict(X_val)\n",
    "forest_val_error = mean_squared_error(y_val, y_pred_forest_val)\n",
    "print(forest_tr_error)\n",
    "print(forest_val_error)"
   ]
  },
  {
   "cell_type": "code",
   "execution_count": 18,
   "id": "3fd49a5b-6ef7-4c02-980b-aace7b1535bf",
   "metadata": {
    "tags": []
   },
   "outputs": [
    {
     "name": "stdout",
     "output_type": "stream",
     "text": [
      "0.0009929824396548252\n",
      "0.001514240972891766\n"
     ]
    }
   ],
   "source": [
    "X_test_poly = poly.fit_transform(X_test)\n",
    "y_poly_test_pred = lin_regr.predict(X_test_poly)\n",
    "poly_test_error = mean_squared_error(y_test, y_poly_test_pred)\n",
    "y_forest_test_pred = forest_regr.predict(X_test)\n",
    "forest_test_error = mean_squared_error(y_test, y_forest_test_pred)\n",
    "print(poly_test_error)\n",
    "print(forest_test_error)"
   ]
  },
  {
   "cell_type": "code",
   "execution_count": null,
   "id": "3e1b10d3-4411-447a-b0f5-140d0eb28555",
   "metadata": {},
   "outputs": [],
   "source": []
  }
 ],
 "metadata": {
  "kernelspec": {
   "display_name": "Python 3",
   "language": "python",
   "name": "python3"
  },
  "language_info": {
   "codemirror_mode": {
    "name": "ipython",
    "version": 3
   },
   "file_extension": ".py",
   "mimetype": "text/x-python",
   "name": "python",
   "nbconvert_exporter": "python",
   "pygments_lexer": "ipython3",
   "version": "3.10.8"
  }
 },
 "nbformat": 4,
 "nbformat_minor": 5
}
